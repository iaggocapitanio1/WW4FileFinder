{
 "cells": [
  {
   "cell_type": "code",
   "execution_count": 11,
   "id": "21897320",
   "metadata": {},
   "outputs": [],
   "source": [
    "from pathlib import Path\n",
    "\n",
    "def verify(source_path: Path, reference: str = 'mofreitas/clientes/') -> bool:\n",
    "    if source_path.is_dir():\n",
    "        return False\n",
    "    if reference not in source_path.parts:\n",
    "        return False\n",
    "    current_path = Path(*source_path.parts[source_path.parts.index(reference):])\n",
    "    while current_path != current_path.parent:  # Stop when reaching the root directory\n",
    "        if current_path.name == reference:\n",
    "            return True\n",
    "        current_path = current_path.parent\n",
    "\n",
    "    return False\n",
    "\n"
   ]
  },
  {
   "cell_type": "code",
   "execution_count": 13,
   "id": "5940009f",
   "metadata": {},
   "outputs": [
    {
     "name": "stdout",
     "output_type": "stream",
     "text": [
      "False\n"
     ]
    }
   ],
   "source": [
    "source_path = Path(\"/mofreitas/clientes/Lists_and_Tags/file.txt\")\n",
    "print(verify(source_path))  # Output: True"
   ]
  },
  {
   "cell_type": "code",
   "execution_count": 14,
   "id": "9af33589",
   "metadata": {},
   "outputs": [
    {
     "data": {
      "text/plain": [
       "False"
      ]
     },
     "execution_count": 14,
     "metadata": {},
     "output_type": "execute_result"
    }
   ],
   "source": [
    "verify(source_path)"
   ]
  },
  {
   "cell_type": "code",
   "execution_count": null,
   "id": "d0c46353",
   "metadata": {},
   "outputs": [],
   "source": []
  },
  {
   "cell_type": "code",
   "execution_count": null,
   "id": "4ca50888",
   "metadata": {},
   "outputs": [],
   "source": []
  }
 ],
 "metadata": {
  "kernelspec": {
   "display_name": "ww4",
   "language": "python",
   "name": "ww4"
  },
  "language_info": {
   "codemirror_mode": {
    "name": "ipython",
    "version": 3
   },
   "file_extension": ".py",
   "mimetype": "text/x-python",
   "name": "python",
   "nbconvert_exporter": "python",
   "pygments_lexer": "ipython3",
   "version": "3.10.6"
  }
 },
 "nbformat": 4,
 "nbformat_minor": 5
}
